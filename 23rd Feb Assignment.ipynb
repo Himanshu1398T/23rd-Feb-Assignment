{
 "cells": [
  {
   "cell_type": "markdown",
   "id": "c9c29533",
   "metadata": {},
   "source": [
    "### Q1. Create a Pandas Series that contains the following data: 4, 8, 15, 16, 23, and 42. Then, print the series.\n",
    "\n",
    "#### Ans:"
   ]
  },
  {
   "cell_type": "code",
   "execution_count": 1,
   "id": "3c41b365",
   "metadata": {},
   "outputs": [
    {
     "name": "stdout",
     "output_type": "stream",
     "text": [
      "0     4\n",
      "1     8\n",
      "2    15\n",
      "3    16\n",
      "4    23\n",
      "5    42\n",
      "dtype: int64\n"
     ]
    }
   ],
   "source": [
    "import pandas as pd\n",
    "\n",
    "data = [4, 8, 15, 16, 23, 42]\n",
    "series = pd.Series(data)\n",
    "print(series)"
   ]
  },
  {
   "cell_type": "markdown",
   "id": "e4e172fb",
   "metadata": {},
   "source": [
    "### Q2. Create a variable of list type containing 10 elements in it, and apply pandas.Series function on the variable print it.\n",
    "\n",
    "#### Ans:"
   ]
  },
  {
   "cell_type": "code",
   "execution_count": 2,
   "id": "8f336c47",
   "metadata": {},
   "outputs": [
    {
     "name": "stdout",
     "output_type": "stream",
     "text": [
      "0     10\n",
      "1     20\n",
      "2     30\n",
      "3     40\n",
      "4     50\n",
      "5     60\n",
      "6     70\n",
      "7     80\n",
      "8     90\n",
      "9    100\n",
      "dtype: int64\n"
     ]
    }
   ],
   "source": [
    "my_list = [10, 20, 30, 40, 50, 60, 70, 80, 90, 100]\n",
    "my_series = pd.Series(my_list)\n",
    "print(my_series)"
   ]
  },
  {
   "cell_type": "markdown",
   "id": "66850cb4",
   "metadata": {},
   "source": [
    "### Q3. Create a Pandas DataFrame that contains the following data:"
   ]
  },
  {
   "attachments": {
    "Screenshot%202023-04-24%20204022.png": {
     "image/png": "[encoded data removed]"
    }
   },
   "cell_type": "markdown",
   "id": "7de13035",
   "metadata": {},
   "source": [
    "![Screenshot%202023-04-24%20204022.png](attachment:Screenshot%202023-04-24%20204022.png)"
   ]
  },
  {
   "cell_type": "markdown",
   "id": "9b4704ec",
   "metadata": {},
   "source": [
    "### Then, print the DataFrame.\n",
    "\n",
    "#### Ans:"
   ]
  },
  {
   "cell_type": "code",
   "execution_count": 3,
   "id": "dcabed8c",
   "metadata": {},
   "outputs": [
    {
     "name": "stdout",
     "output_type": "stream",
     "text": [
      "      Name  Age  Gender\n",
      "0    Alice   25  Female\n",
      "1      Bob   30    Male\n",
      "2  Charlie   35    Male\n"
     ]
    }
   ],
   "source": [
    "data = {\n",
    "    'Name': ['Alice', 'Bob', 'Charlie'],\n",
    "    'Age': [25, 30, 35],\n",
    "    'Gender': ['Female', 'Male', 'Male']\n",
    "}\n",
    "\n",
    "df = pd.DataFrame(data)\n",
    "print(df)"
   ]
  },
  {
   "cell_type": "markdown",
   "id": "09ecd352",
   "metadata": {},
   "source": [
    "### Q4. What is ‘DataFrame’ in pandas and how is it different from pandas.series? Explain with an example.\n",
    "\n",
    "#### Ans:"
   ]
  },
  {
   "cell_type": "markdown",
   "id": "37bb1cba",
   "metadata": {},
   "source": [
    "In Pandas, a DataFrame is a two-dimensional labeled data structure that represents a collection of data in rows and columns, similar to a spreadsheet or SQL table. It is essentially a container of one or more Pandas Series that share the same index.\n",
    "\n",
    "On the other hand, a Pandas Series is a one-dimensional labeled data structure that can hold any data type, such as integers, floats, strings, etc. It is similar to a single column of a DataFrame, but with its own index."
   ]
  },
  {
   "cell_type": "code",
   "execution_count": 5,
   "id": "09d061ae",
   "metadata": {},
   "outputs": [
    {
     "name": "stdout",
     "output_type": "stream",
     "text": [
      "0    10\n",
      "1    20\n",
      "2    30\n",
      "3    40\n",
      "4    50\n",
      "Name: Numbers, dtype: int64\n",
      "      Name  Age  Gender\n",
      "0    Alice   25  Female\n",
      "1      Bob   30    Male\n",
      "2  Charlie   35    Male\n"
     ]
    }
   ],
   "source": [
    "# Creating a Pandas Series\n",
    "my_series = pd.Series([10, 20, 30, 40, 50], name='Numbers')\n",
    "print(my_series)\n",
    "\n",
    "# Creating a Pandas DataFrame\n",
    "data = {\n",
    "    'Name': ['Alice', 'Bob', 'Charlie'],\n",
    "    'Age': [25, 30, 35],\n",
    "    'Gender': ['Female', 'Male', 'Male']\n",
    "}\n",
    "my_df = pd.DataFrame(data)\n",
    "print(my_df)"
   ]
  },
  {
   "cell_type": "markdown",
   "id": "a8d32855",
   "metadata": {},
   "source": [
    "In the example above, my_series is a Pandas Series that contains a list of integers with a name \"Numbers\". Notice that a Pandas Series only has one column of data and an index.\n",
    "\n",
    "On the other hand, my_df is a Pandas DataFrame that contains three columns: Name, Age, and Gender. Each column in the DataFrame is a separate Pandas Series with its own index. The DataFrame also has a shared index that labels the rows in the DataFrame."
   ]
  },
  {
   "cell_type": "markdown",
   "id": "4c2ec95f",
   "metadata": {},
   "source": [
    "### Q5. What are some common functions you can use to manipulate data in a Pandas DataFrame? Can you give an example of when you might use one of these functions?\n",
    "\n",
    "#### Ans:"
   ]
  },
  {
   "cell_type": "markdown",
   "id": "53e7c153",
   "metadata": {},
   "source": [
    "Some commonly used functions:\n",
    "1. head(): returns the first n rows of the DataFrame (default is 5)\n",
    "2. tail(): returns the last n rows of the DataFrame (default is 5)\n",
    "3. info(): provides a summary of the DataFrame, including the data types and number of non-null values in each column\n",
    "4. describe(): provides descriptive statistics of the DataFrame, such as the count, mean, standard deviation, minimum, maximum, and quartile values of each column\n",
    "5. drop(): removes one or more columns or rows from the DataFrame\n",
    "6. sort_values(): sorts the DataFrame by one or more columns\n",
    "7. groupby(): groups the DataFrame by one or more columns and applies a function to each group\n",
    "8. pivot_table(): creates a pivot table based on the DataFrame\n",
    "9. apply(): applies a function to each element in a column or row of the DataFrame\n",
    "10. fillna(): fills missing values in the DataFrame with a specified value or method"
   ]
  },
  {
   "cell_type": "markdown",
   "id": "3d948492",
   "metadata": {},
   "source": [
    "Suppose we have a DataFrame that contains information about students, including their name, grade, and age. We might want to group the students by grade and calculate the average age for each grade. Here's how it can be done using the groupby() function:"
   ]
  },
  {
   "cell_type": "code",
   "execution_count": 6,
   "id": "a999fc47",
   "metadata": {},
   "outputs": [
    {
     "name": "stdout",
     "output_type": "stream",
     "text": [
      "Grade\n",
      "A    17.5\n",
      "B    16.5\n",
      "C    18.0\n",
      "Name: Age, dtype: float64\n"
     ]
    }
   ],
   "source": [
    "data = {\n",
    "    'Name': ['Alice', 'Bob', 'Charlie', 'Dave', 'Emily'],\n",
    "    'Grade': ['A', 'B', 'B', 'C', 'A'],\n",
    "    'Age': [18, 17, 16, 18, 17]\n",
    "}\n",
    "\n",
    "df = pd.DataFrame(data)\n",
    "\n",
    "# Group the students by grade and calculate the average age for each grade\n",
    "avg_age_by_grade = df.groupby('Grade')['Age'].mean()\n",
    "\n",
    "print(avg_age_by_grade)\n"
   ]
  },
  {
   "cell_type": "markdown",
   "id": "b780135f",
   "metadata": {},
   "source": [
    "### Q6. Which of the following is mutable in nature Series, DataFrame, Panel?\n",
    "\n",
    "#### Ans:"
   ]
  },
  {
   "cell_type": "markdown",
   "id": "61ffb2fb",
   "metadata": {},
   "source": [
    "Series and DataFrame are mutable in nature, while Panel is immutable.\n",
    "***\n",
    "In particular, a Series can be modified by adding or removing elements, and a DataFrame can be modified by adding or removing columns or rows, or by changing the values in existing columns or rows. On the other hand, a Panel is a 3-dimensional data structure that is immutable in nature, which means it cannot be modified after it is created."
   ]
  },
  {
   "cell_type": "markdown",
   "id": "398a3d1a",
   "metadata": {},
   "source": [
    "### Q7. Create a DataFrame using multiple Series. Explain with an example.\n",
    "\n",
    "#### Ans:"
   ]
  },
  {
   "cell_type": "markdown",
   "id": "41d7fc7c",
   "metadata": {},
   "source": [
    "Suppose we have two Series, city and population, with four elements each:"
   ]
  },
  {
   "cell_type": "code",
   "execution_count": 7,
   "id": "490d7dfc",
   "metadata": {},
   "outputs": [],
   "source": [
    "import pandas as pd\n",
    "\n",
    "city = pd.Series(['New York', 'Los Angeles', 'Chicago', 'Houston'])\n",
    "population = pd.Series([8398748, 3990456, 2705994, 2320268])"
   ]
  },
  {
   "cell_type": "markdown",
   "id": "568ae9ce",
   "metadata": {},
   "source": [
    "We can create a DataFrame using these Series as follows:"
   ]
  },
  {
   "cell_type": "code",
   "execution_count": 8,
   "id": "af9251ad",
   "metadata": {},
   "outputs": [
    {
     "data": {
      "text/html": [
       "<div>\n",
       "<style scoped>\n",
       "    .dataframe tbody tr th:only-of-type {\n",
       "        vertical-align: middle;\n",
       "    }\n",
       "\n",
       "    .dataframe tbody tr th {\n",
       "        vertical-align: top;\n",
       "    }\n",
       "\n",
       "    .dataframe thead th {\n",
       "        text-align: right;\n",
       "    }\n",
       "</style>\n",
       "<table border=\"1\" class=\"dataframe\">\n",
       "  <thead>\n",
       "    <tr style=\"text-align: right;\">\n",
       "      <th></th>\n",
       "      <th>City</th>\n",
       "      <th>Population</th>\n",
       "    </tr>\n",
       "  </thead>\n",
       "  <tbody>\n",
       "    <tr>\n",
       "      <th>0</th>\n",
       "      <td>New York</td>\n",
       "      <td>8398748</td>\n",
       "    </tr>\n",
       "    <tr>\n",
       "      <th>1</th>\n",
       "      <td>Los Angeles</td>\n",
       "      <td>3990456</td>\n",
       "    </tr>\n",
       "    <tr>\n",
       "      <th>2</th>\n",
       "      <td>Chicago</td>\n",
       "      <td>2705994</td>\n",
       "    </tr>\n",
       "    <tr>\n",
       "      <th>3</th>\n",
       "      <td>Houston</td>\n",
       "      <td>2320268</td>\n",
       "    </tr>\n",
       "  </tbody>\n",
       "</table>\n",
       "</div>"
      ],
      "text/plain": [
       "          City  Population\n",
       "0     New York     8398748\n",
       "1  Los Angeles     3990456\n",
       "2      Chicago     2705994\n",
       "3      Houston     2320268"
      ]
     },
     "execution_count": 8,
     "metadata": {},
     "output_type": "execute_result"
    }
   ],
   "source": [
    "df = pd.DataFrame({'City': city, 'Population': population})\n",
    "df"
   ]
  },
  {
   "cell_type": "markdown",
   "id": "9bb81904",
   "metadata": {},
   "source": [
    "In this example, we have created a DataFrame with two columns, 'City' and 'Population', where the 'City' column contains the name of the cities and the 'Population' column contains their respective populations."
   ]
  }
 ],
 "metadata": {
  "kernelspec": {
   "display_name": "Python 3 (ipykernel)",
   "language": "python",
   "name": "python3"
  },
  "language_info": {
   "codemirror_mode": {
    "name": "ipython",
    "version": 3
   },
   "file_extension": ".py",
   "mimetype": "text/x-python",
   "name": "python",
   "nbconvert_exporter": "python",
   "pygments_lexer": "ipython3",
   "version": "3.9.13"
  }
 },
 "nbformat": 4,
 "nbformat_minor": 5
}
